{
 "cells": [
  {
   "cell_type": "code",
   "execution_count": 1,
   "metadata": {},
   "outputs": [],
   "source": [
    "from opensearchpy import OpenSearch\n",
    "from dotenv import load_dotenv\n",
    "import os\n",
    "\n",
    "load_dotenv()\n",
    "\n",
    "OPENSEARCH_HOST = os.getenv(\"OPENSEARCH_HOST\")\n",
    "OPENSEARCH_USER = os.getenv(\"OPENSEARCH_USER\")\n",
    "OPENSEARCH_PWD = os.getenv(\"OPENSEARCH_PWD\")\n",
    "\n",
    "def get_client(cluster_url, username, password):\n",
    "\n",
    "    client = OpenSearch(\n",
    "        hosts=[cluster_url], http_auth=(username, password), verify_certs=True\n",
    "    )\n",
    "    return client\n",
    "\n",
    "client = get_client(cluster_url=OPENSEARCH_HOST, username=OPENSEARCH_USER, password=OPENSEARCH_PWD)\n"
   ]
  },
  {
   "cell_type": "code",
   "execution_count": 2,
   "metadata": {},
   "outputs": [],
   "source": [
    "\n",
    "index_name = \"movies\"\n",
    "\n",
    "# index_body = {\n",
    "#     \"settings\": {\"index\": {\"knn\": True, \"knn.algo_param.ef_search\": 100}},\n",
    "#     \"mappings\": {  # how do we store,\n",
    "#         \"properties\": {\n",
    "#             \"embedding\": {\n",
    "#                 \"type\": \"knn_vector\",  # we are going to put\n",
    "#                 \"dimension\": 3,\n",
    "#                 \"method\": {\n",
    "#                     \"name\": \"hnsw\",\n",
    "#                     \"space_type\": \"cosinesimil\",\n",
    "#                     \"engine\": \"nmslib\",\n",
    "#                     # \"parameters\": {\"ef_construction\": 128, \"m\": 24},\n",
    "#                 },\n",
    "#             }\n",
    "#         }\n",
    "#     },\n",
    "# }\n",
    "\n",
    "# response = client.indices.create(index=index_name, body=index_body)"
   ]
  },
  {
   "cell_type": "code",
   "execution_count": 15,
   "metadata": {},
   "outputs": [],
   "source": [
    "\n",
    "res = client.index(\n",
    "    index=index_name,\n",
    "    body={\"id\": 3, \"title\": \"title here2\", \"embedding\": [3, 3, 3]},\n",
    "    id = str(3),\n",
    "    refresh = True\n",
    ")"
   ]
  },
  {
   "cell_type": "code",
   "execution_count": 16,
   "metadata": {},
   "outputs": [],
   "source": [
    "query_body = {\n",
    "    \"query\": {\"knn\": {\"embedding\": {\"vector\": [1,1,1], \"k\": 3}}},\n",
    "    \"_source\": False,\n",
    "    \"fields\": [\"id\", \"title\"],\n",
    "}\n",
    "\n",
    "results = client.search(\n",
    "    body=query_body,\n",
    "    index=index_name\n",
    ")"
   ]
  },
  {
   "cell_type": "code",
   "execution_count": 17,
   "metadata": {},
   "outputs": [
    {
     "data": {
      "text/plain": [
       "{'took': 3,\n",
       " 'timed_out': False,\n",
       " '_shards': {'total': 5, 'successful': 5, 'skipped': 0, 'failed': 0},\n",
       " 'hits': {'total': {'value': 4, 'relation': 'eq'},\n",
       "  'max_score': 1.0,\n",
       "  'hits': [{'_index': 'movies',\n",
       "    '_id': '3',\n",
       "    '_score': 1.0,\n",
       "    'fields': {'id': [3], 'title': ['title here2']}},\n",
       "   {'_index': 'movies',\n",
       "    '_id': '<built-in function id>',\n",
       "    '_score': 1.0,\n",
       "    'fields': {'id': [2], 'title': ['title here2']}},\n",
       "   {'_index': 'movies',\n",
       "    '_id': '2',\n",
       "    '_score': 1.0,\n",
       "    'fields': {'id': [2], 'title': ['title here2']}},\n",
       "   {'_index': 'movies',\n",
       "    '_id': '1',\n",
       "    '_score': 1.0,\n",
       "    'fields': {'id': [1], 'title': ['title here2']}}]}}"
      ]
     },
     "execution_count": 17,
     "metadata": {},
     "output_type": "execute_result"
    }
   ],
   "source": [
    "results"
   ]
  }
 ],
 "metadata": {
  "kernelspec": {
   "display_name": ".venv",
   "language": "python",
   "name": "python3"
  },
  "language_info": {
   "codemirror_mode": {
    "name": "ipython",
    "version": 3
   },
   "file_extension": ".py",
   "mimetype": "text/x-python",
   "name": "python",
   "nbconvert_exporter": "python",
   "pygments_lexer": "ipython3",
   "version": "3.11.9"
  }
 },
 "nbformat": 4,
 "nbformat_minor": 2
}
